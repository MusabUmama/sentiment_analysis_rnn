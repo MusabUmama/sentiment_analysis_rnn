{
 "cells": [
  {
   "cell_type": "markdown",
   "id": "5b169487",
   "metadata": {},
   "source": [
    "## Sentiment Analysis Using Bidirectional RNN Model with Attention Mechanism\n",
    "\n",
    "In this project we will be using Bidirectional RNN model with attention mechanism for sentiment analysis on reviews data from Yelp reviews dataset."
   ]
  },
  {
   "cell_type": "markdown",
   "id": "ebb3854a",
   "metadata": {},
   "source": [
    "First, we are importing the neccasary libraries"
   ]
  },
  {
   "cell_type": "code",
   "execution_count": 1,
   "id": "c00495d5",
   "metadata": {},
   "outputs": [],
   "source": [
    "import pandas as pd\n",
    "import numpy as np\n",
    "import nltk"
   ]
  },
  {
   "cell_type": "code",
   "execution_count": 2,
   "id": "8d6e140e",
   "metadata": {},
   "outputs": [
    {
     "name": "stderr",
     "output_type": "stream",
     "text": [
      "[nltk_data] Downloading package stopwords to\n",
      "[nltk_data]     C:\\Users\\Lenovo\\AppData\\Roaming\\nltk_data...\n",
      "[nltk_data]   Package stopwords is already up-to-date!\n",
      "[nltk_data] Downloading package wordnet to\n",
      "[nltk_data]     C:\\Users\\Lenovo\\AppData\\Roaming\\nltk_data...\n",
      "[nltk_data]   Package wordnet is already up-to-date!\n"
     ]
    },
    {
     "data": {
      "text/plain": [
       "True"
      ]
     },
     "execution_count": 2,
     "metadata": {},
     "output_type": "execute_result"
    }
   ],
   "source": [
    "nltk.download('stopwords')\n",
    "nltk.download('wordnet')"
   ]
  },
  {
   "cell_type": "code",
   "execution_count": 3,
   "id": "15885e05",
   "metadata": {},
   "outputs": [],
   "source": [
    "import re"
   ]
  },
  {
   "cell_type": "code",
   "execution_count": 4,
   "id": "44fc8540",
   "metadata": {},
   "outputs": [],
   "source": [
    "from nltk.stem import WordNetLemmatizer\n",
    "from nltk.corpus import stopwords"
   ]
  },
  {
   "cell_type": "code",
   "execution_count": 5,
   "id": "33980b27",
   "metadata": {},
   "outputs": [],
   "source": [
    "import tensorflow as tf\n",
    "import tensorflow.keras as keras\n",
    "from tensorflow.keras.preprocessing.text import Tokenizer\n",
    "from tensorflow.keras.preprocessing.sequence import pad_sequences\n",
    "from tensorflow.keras.layers import Dense, LSTM, Input, Concatenate, Dropout, Activation, Embedding, GRU, Flatten\n",
    "from tensorflow.keras.layers import Bidirectional, GlobalMaxPool1D, Convolution1D\n",
    "from tensorflow.keras.models import Model, Sequential\n",
    "from tensorflow.keras import initializers, regularizers, constraints, layers, optimizers"
   ]
  },
  {
   "cell_type": "markdown",
   "id": "55d87009",
   "metadata": {},
   "source": [
    "Now, we are loading the dataset"
   ]
  },
  {
   "cell_type": "code",
   "execution_count": 6,
   "id": "78361433",
   "metadata": {},
   "outputs": [],
   "source": [
    "path = 'yelp_reviews.json'"
   ]
  },
  {
   "cell_type": "code",
   "execution_count": 7,
   "id": "488062e3",
   "metadata": {},
   "outputs": [],
   "source": [
    "reviews = pd.read_json(path, lines=True,\n",
    "                       dtype={'review_id':str,'user_id':str,\n",
    "                              'business_id':str,'stars':int,\n",
    "                              'date':str,'text':str,'useful':int,\n",
    "                              'funny':int,'cool':int}, nrows=200000)"
   ]
  },
  {
   "cell_type": "markdown",
   "id": "7b73d4b2",
   "metadata": {},
   "source": [
    "The stars and text features will be the needed ones"
   ]
  },
  {
   "cell_type": "code",
   "execution_count": 8,
   "id": "efa9341f",
   "metadata": {},
   "outputs": [],
   "source": [
    "reviews_df_text = reviews[['stars','text']]"
   ]
  },
  {
   "cell_type": "code",
   "execution_count": 9,
   "id": "c8837e65",
   "metadata": {},
   "outputs": [
    {
     "data": {
      "text/html": [
       "<div>\n",
       "<style scoped>\n",
       "    .dataframe tbody tr th:only-of-type {\n",
       "        vertical-align: middle;\n",
       "    }\n",
       "\n",
       "    .dataframe tbody tr th {\n",
       "        vertical-align: top;\n",
       "    }\n",
       "\n",
       "    .dataframe thead th {\n",
       "        text-align: right;\n",
       "    }\n",
       "</style>\n",
       "<table border=\"1\" class=\"dataframe\">\n",
       "  <thead>\n",
       "    <tr style=\"text-align: right;\">\n",
       "      <th></th>\n",
       "      <th>stars</th>\n",
       "      <th>text</th>\n",
       "    </tr>\n",
       "  </thead>\n",
       "  <tbody>\n",
       "    <tr>\n",
       "      <th>0</th>\n",
       "      <td>3</td>\n",
       "      <td>If you decide to eat here, just be aware it is...</td>\n",
       "    </tr>\n",
       "    <tr>\n",
       "      <th>1</th>\n",
       "      <td>5</td>\n",
       "      <td>I've taken a lot of spin classes over the year...</td>\n",
       "    </tr>\n",
       "    <tr>\n",
       "      <th>2</th>\n",
       "      <td>3</td>\n",
       "      <td>Family diner. Had the buffet. Eclectic assortm...</td>\n",
       "    </tr>\n",
       "    <tr>\n",
       "      <th>3</th>\n",
       "      <td>5</td>\n",
       "      <td>Wow!  Yummy, different,  delicious.   Our favo...</td>\n",
       "    </tr>\n",
       "    <tr>\n",
       "      <th>4</th>\n",
       "      <td>4</td>\n",
       "      <td>Cute interior and owner (?) gave us tour of up...</td>\n",
       "    </tr>\n",
       "    <tr>\n",
       "      <th>...</th>\n",
       "      <td>...</td>\n",
       "      <td>...</td>\n",
       "    </tr>\n",
       "    <tr>\n",
       "      <th>199995</th>\n",
       "      <td>5</td>\n",
       "      <td>Oakley's Bistro is a hidden gem for Indianapol...</td>\n",
       "    </tr>\n",
       "    <tr>\n",
       "      <th>199996</th>\n",
       "      <td>5</td>\n",
       "      <td>Let me just say, I'm glad my husband and I dec...</td>\n",
       "    </tr>\n",
       "    <tr>\n",
       "      <th>199997</th>\n",
       "      <td>5</td>\n",
       "      <td>I was coming back from the Farmers market toda...</td>\n",
       "    </tr>\n",
       "    <tr>\n",
       "      <th>199998</th>\n",
       "      <td>5</td>\n",
       "      <td>Absolutely perfect meal for me. The food is cl...</td>\n",
       "    </tr>\n",
       "    <tr>\n",
       "      <th>199999</th>\n",
       "      <td>5</td>\n",
       "      <td>Braised beef Short Rib! Asparagus on the side....</td>\n",
       "    </tr>\n",
       "  </tbody>\n",
       "</table>\n",
       "<p>200000 rows × 2 columns</p>\n",
       "</div>"
      ],
      "text/plain": [
       "        stars                                               text\n",
       "0           3  If you decide to eat here, just be aware it is...\n",
       "1           5  I've taken a lot of spin classes over the year...\n",
       "2           3  Family diner. Had the buffet. Eclectic assortm...\n",
       "3           5  Wow!  Yummy, different,  delicious.   Our favo...\n",
       "4           4  Cute interior and owner (?) gave us tour of up...\n",
       "...       ...                                                ...\n",
       "199995      5  Oakley's Bistro is a hidden gem for Indianapol...\n",
       "199996      5  Let me just say, I'm glad my husband and I dec...\n",
       "199997      5  I was coming back from the Farmers market toda...\n",
       "199998      5  Absolutely perfect meal for me. The food is cl...\n",
       "199999      5  Braised beef Short Rib! Asparagus on the side....\n",
       "\n",
       "[200000 rows x 2 columns]"
      ]
     },
     "execution_count": 9,
     "metadata": {},
     "output_type": "execute_result"
    }
   ],
   "source": [
    "reviews_df_text"
   ]
  },
  {
   "cell_type": "markdown",
   "id": "960c8865",
   "metadata": {},
   "source": [
    "We are creating a new feature \"sentiment\" with values 0 and 1. The reviews with above 3 stars are 1 or positive and below are 0 or negative."
   ]
  },
  {
   "cell_type": "code",
   "execution_count": 11,
   "id": "24da701d",
   "metadata": {},
   "outputs": [
    {
     "name": "stderr",
     "output_type": "stream",
     "text": [
      "C:\\Users\\Lenovo\\AppData\\Local\\Temp\\ipykernel_4740\\1477322979.py:1: SettingWithCopyWarning: \n",
      "A value is trying to be set on a copy of a slice from a DataFrame.\n",
      "Try using .loc[row_indexer,col_indexer] = value instead\n",
      "\n",
      "See the caveats in the documentation: https://pandas.pydata.org/pandas-docs/stable/user_guide/indexing.html#returning-a-view-versus-a-copy\n",
      "  reviews_df_text['sentiment'] = np.where(reviews_df_text['stars'] > 3, 1, 0)\n"
     ]
    }
   ],
   "source": [
    "reviews_df_text['sentiment'] = np.where(reviews_df_text['stars'] > 3, 1, 0)"
   ]
  },
  {
   "cell_type": "markdown",
   "id": "2447bfbf",
   "metadata": {},
   "source": [
    "We are creating a function to clean the text data."
   ]
  },
  {
   "cell_type": "code",
   "execution_count": 12,
   "id": "e29f0f89",
   "metadata": {},
   "outputs": [],
   "source": [
    "lemmatizer = WordNetLemmatizer()"
   ]
  },
  {
   "cell_type": "code",
   "execution_count": 13,
   "id": "850ffc76",
   "metadata": {},
   "outputs": [],
   "source": [
    "stop_words = set(stopwords.words(\"english\"))"
   ]
  },
  {
   "cell_type": "code",
   "execution_count": 14,
   "id": "7edc6ec1",
   "metadata": {},
   "outputs": [],
   "source": [
    "def text_cleaner(text):\n",
    "    text = re.sub(r'[^\\w\\s]','',text, re.UNICODE)\n",
    "    text = text.lower()\n",
    "    text = [lemmatizer.lemmatize(token) for token in text.split(\" \")]\n",
    "    text = [lemmatizer.lemmatize(token, \"v\") for token in text]\n",
    "    text = [word for word in text if not word in stop_words]\n",
    "    text = \" \".join(text)\n",
    "    \n",
    "    return text"
   ]
  },
  {
   "cell_type": "code",
   "execution_count": 15,
   "id": "5ebfe091",
   "metadata": {},
   "outputs": [
    {
     "name": "stderr",
     "output_type": "stream",
     "text": [
      "C:\\Users\\Lenovo\\AppData\\Local\\Temp\\ipykernel_4740\\3445599890.py:1: SettingWithCopyWarning: \n",
      "A value is trying to be set on a copy of a slice from a DataFrame.\n",
      "Try using .loc[row_indexer,col_indexer] = value instead\n",
      "\n",
      "See the caveats in the documentation: https://pandas.pydata.org/pandas-docs/stable/user_guide/indexing.html#returning-a-view-versus-a-copy\n",
      "  reviews_df_text['processed Reviews'] = reviews_df_text.text.apply(lambda x: text_cleaner(x))\n"
     ]
    }
   ],
   "source": [
    "reviews_df_text['processed Reviews'] = reviews_df_text.text.apply(lambda x: text_cleaner(x))"
   ]
  },
  {
   "cell_type": "markdown",
   "id": "0810ca45",
   "metadata": {},
   "source": [
    "**The pre-processed text reviews with corresponding sentiment values.**"
   ]
  },
  {
   "cell_type": "code",
   "execution_count": 16,
   "id": "5ee5daf0",
   "metadata": {},
   "outputs": [
    {
     "data": {
      "text/html": [
       "<div>\n",
       "<style scoped>\n",
       "    .dataframe tbody tr th:only-of-type {\n",
       "        vertical-align: middle;\n",
       "    }\n",
       "\n",
       "    .dataframe tbody tr th {\n",
       "        vertical-align: top;\n",
       "    }\n",
       "\n",
       "    .dataframe thead th {\n",
       "        text-align: right;\n",
       "    }\n",
       "</style>\n",
       "<table border=\"1\" class=\"dataframe\">\n",
       "  <thead>\n",
       "    <tr style=\"text-align: right;\">\n",
       "      <th></th>\n",
       "      <th>stars</th>\n",
       "      <th>text</th>\n",
       "      <th>sentiment</th>\n",
       "      <th>processed Reviews</th>\n",
       "    </tr>\n",
       "  </thead>\n",
       "  <tbody>\n",
       "    <tr>\n",
       "      <th>0</th>\n",
       "      <td>3</td>\n",
       "      <td>If you decide to eat here, just be aware it is...</td>\n",
       "      <td>0</td>\n",
       "      <td>decide eat aware go take 2 hour begin end try ...</td>\n",
       "    </tr>\n",
       "    <tr>\n",
       "      <th>1</th>\n",
       "      <td>5</td>\n",
       "      <td>I've taken a lot of spin classes over the year...</td>\n",
       "      <td>1</td>\n",
       "      <td>ive take lot spin class year nothing compare c...</td>\n",
       "    </tr>\n",
       "    <tr>\n",
       "      <th>2</th>\n",
       "      <td>3</td>\n",
       "      <td>Family diner. Had the buffet. Eclectic assortm...</td>\n",
       "      <td>0</td>\n",
       "      <td>family diner buffet eclectic assortment large ...</td>\n",
       "    </tr>\n",
       "    <tr>\n",
       "      <th>3</th>\n",
       "      <td>5</td>\n",
       "      <td>Wow!  Yummy, different,  delicious.   Our favo...</td>\n",
       "      <td>1</td>\n",
       "      <td>wow  yummy different  delicious   favorite lam...</td>\n",
       "    </tr>\n",
       "    <tr>\n",
       "      <th>4</th>\n",
       "      <td>4</td>\n",
       "      <td>Cute interior and owner (?) gave us tour of up...</td>\n",
       "      <td>1</td>\n",
       "      <td>cute interior owner  give u tour upcoming pati...</td>\n",
       "    </tr>\n",
       "    <tr>\n",
       "      <th>...</th>\n",
       "      <td>...</td>\n",
       "      <td>...</td>\n",
       "      <td>...</td>\n",
       "      <td>...</td>\n",
       "    </tr>\n",
       "    <tr>\n",
       "      <th>199995</th>\n",
       "      <td>5</td>\n",
       "      <td>Oakley's Bistro is a hidden gem for Indianapol...</td>\n",
       "      <td>1</td>\n",
       "      <td>oakley bistro hide gem indianapolis  chef amaz...</td>\n",
       "    </tr>\n",
       "    <tr>\n",
       "      <th>199996</th>\n",
       "      <td>5</td>\n",
       "      <td>Let me just say, I'm glad my husband and I dec...</td>\n",
       "      <td>1</td>\n",
       "      <td>let say im glad husband decide wait 20 minute ...</td>\n",
       "    </tr>\n",
       "    <tr>\n",
       "      <th>199997</th>\n",
       "      <td>5</td>\n",
       "      <td>I was coming back from the Farmers market toda...</td>\n",
       "      <td>1</td>\n",
       "      <td>wa come back farmer market today decide stop t...</td>\n",
       "    </tr>\n",
       "    <tr>\n",
       "      <th>199998</th>\n",
       "      <td>5</td>\n",
       "      <td>Absolutely perfect meal for me. The food is cl...</td>\n",
       "      <td>1</td>\n",
       "      <td>absolutely perfect meal food clean good qualit...</td>\n",
       "    </tr>\n",
       "    <tr>\n",
       "      <th>199999</th>\n",
       "      <td>5</td>\n",
       "      <td>Braised beef Short Rib! Asparagus on the side....</td>\n",
       "      <td>1</td>\n",
       "      <td>braise beef short rib asparagus side  meal wa ...</td>\n",
       "    </tr>\n",
       "  </tbody>\n",
       "</table>\n",
       "<p>200000 rows × 4 columns</p>\n",
       "</div>"
      ],
      "text/plain": [
       "        stars                                               text  sentiment  \\\n",
       "0           3  If you decide to eat here, just be aware it is...          0   \n",
       "1           5  I've taken a lot of spin classes over the year...          1   \n",
       "2           3  Family diner. Had the buffet. Eclectic assortm...          0   \n",
       "3           5  Wow!  Yummy, different,  delicious.   Our favo...          1   \n",
       "4           4  Cute interior and owner (?) gave us tour of up...          1   \n",
       "...       ...                                                ...        ...   \n",
       "199995      5  Oakley's Bistro is a hidden gem for Indianapol...          1   \n",
       "199996      5  Let me just say, I'm glad my husband and I dec...          1   \n",
       "199997      5  I was coming back from the Farmers market toda...          1   \n",
       "199998      5  Absolutely perfect meal for me. The food is cl...          1   \n",
       "199999      5  Braised beef Short Rib! Asparagus on the side....          1   \n",
       "\n",
       "                                        processed Reviews  \n",
       "0       decide eat aware go take 2 hour begin end try ...  \n",
       "1       ive take lot spin class year nothing compare c...  \n",
       "2       family diner buffet eclectic assortment large ...  \n",
       "3       wow  yummy different  delicious   favorite lam...  \n",
       "4       cute interior owner  give u tour upcoming pati...  \n",
       "...                                                   ...  \n",
       "199995  oakley bistro hide gem indianapolis  chef amaz...  \n",
       "199996  let say im glad husband decide wait 20 minute ...  \n",
       "199997  wa come back farmer market today decide stop t...  \n",
       "199998  absolutely perfect meal food clean good qualit...  \n",
       "199999  braise beef short rib asparagus side  meal wa ...  \n",
       "\n",
       "[200000 rows x 4 columns]"
      ]
     },
     "execution_count": 16,
     "metadata": {},
     "output_type": "execute_result"
    }
   ],
   "source": [
    "reviews_df_text"
   ]
  },
  {
   "cell_type": "markdown",
   "id": "578fe3a9",
   "metadata": {},
   "source": [
    "Then, we are splitting the data as train and test. Also, tokenizing the text pre-processed data."
   ]
  },
  {
   "cell_type": "code",
   "execution_count": 17,
   "id": "581d9d8d",
   "metadata": {},
   "outputs": [],
   "source": [
    "from sklearn.model_selection import train_test_split"
   ]
  },
  {
   "cell_type": "code",
   "execution_count": 18,
   "id": "5d869c16",
   "metadata": {},
   "outputs": [],
   "source": [
    "train, test = train_test_split(reviews_df_text, test_size=0.01)"
   ]
  },
  {
   "cell_type": "markdown",
   "id": "8fc0ba44",
   "metadata": {},
   "source": [
    "Then, we are tokenizing the text data and converting it into sequences"
   ]
  },
  {
   "cell_type": "code",
   "execution_count": 19,
   "id": "aef915ed",
   "metadata": {},
   "outputs": [],
   "source": [
    "tokenizer = Tokenizer(num_words=6000)\n",
    "tokenizer.fit_on_texts(train['processed Reviews'])\n",
    "tokenized_train_seq = tokenizer.texts_to_sequences(train['processed Reviews'])"
   ]
  },
  {
   "cell_type": "code",
   "execution_count": 20,
   "id": "cc3f8827",
   "metadata": {},
   "outputs": [],
   "source": [
    "X_train = pad_sequences(tokenized_train_seq, maxlen=60)\n",
    "y_train = train['sentiment']"
   ]
  },
  {
   "cell_type": "markdown",
   "id": "4a42d510",
   "metadata": {},
   "source": [
    "Now, we are designing an attention-based neural network model with LSTM layers, attention mechanism, and dense layers"
   ]
  },
  {
   "cell_type": "code",
   "execution_count": 21,
   "id": "a61fb55a",
   "metadata": {},
   "outputs": [],
   "source": [
    "class attention(tf.keras.Model):\n",
    "    def __init__(self, units):\n",
    "        super(attention, self).__init__()\n",
    "        self.W1 = tf.keras.layers.Dense(units)\n",
    "        self.W2 = tf.keras.layers.Dense(units)\n",
    "        self.V = tf.keras.layers.Dense(1)\n",
    "    \n",
    "    def call(self, features, hidden):\n",
    "        hid_time_axis = tf.expand_dims(hidden, 1)\n",
    "        score = tf.nn.tanh(self.W1(features) + self.W2(hid_time_axis))\n",
    "        weights = tf.nn.softmax(self.V(score), axis=1)\n",
    "        context_vec = weights*features\n",
    "        context_vec = tf.reduce_sum(context_vec, axis=1)\n",
    "        \n",
    "        return context_vec, weights\n",
    "    "
   ]
  },
  {
   "cell_type": "markdown",
   "id": "9e3494d1",
   "metadata": {},
   "source": [
    "To perform the computations on input sentences, we are performing embeddings."
   ]
  },
  {
   "cell_type": "code",
   "execution_count": 22,
   "id": "5b41642a",
   "metadata": {},
   "outputs": [],
   "source": [
    "seq_input = Input(shape=(60,), dtype=\"int32\")\n",
    "emb_seq = Embedding(6000, 128)(seq_input)"
   ]
  },
  {
   "cell_type": "code",
   "execution_count": 23,
   "id": "740b1077",
   "metadata": {},
   "outputs": [],
   "source": [
    "lstm = Bidirectional(LSTM(128, return_sequences = True), name=\"bi_lstm_0\")(emb_seq)"
   ]
  },
  {
   "cell_type": "markdown",
   "id": "2e4c2f25",
   "metadata": {},
   "source": [
    "**The model building**"
   ]
  },
  {
   "cell_type": "code",
   "execution_count": 24,
   "id": "a524041c",
   "metadata": {},
   "outputs": [],
   "source": [
    "(lstm, forward_h, forward_c, back_h, back_c) = Bidirectional(LSTM(128, return_sequences=True, return_state=True), name=\"bi_lstm_1\")(lstm)"
   ]
  },
  {
   "cell_type": "code",
   "execution_count": 25,
   "id": "05ba27f1",
   "metadata": {},
   "outputs": [],
   "source": [
    "h_state = Concatenate()([forward_h, back_h])\n",
    "c_state = Concatenate()([forward_c, back_c])"
   ]
  },
  {
   "cell_type": "code",
   "execution_count": 26,
   "id": "8e9773cd",
   "metadata": {},
   "outputs": [],
   "source": [
    "context_vec, weights = attention(10)(lstm, h_state)"
   ]
  },
  {
   "cell_type": "code",
   "execution_count": 27,
   "id": "651529b8",
   "metadata": {},
   "outputs": [],
   "source": [
    "dense1 = Dense(64, activation='relu')(context_vec)\n",
    "dropout = Dropout(0.02)(dense1)\n",
    "dense2 = Dense(32, activation='relu')(context_vec)\n",
    "dropout = Dropout(0.02)(dense2)\n",
    "dense3 = Dense(16, activation='relu')(context_vec)\n",
    "dropout = Dropout(0.02)(dense3)\n",
    "output = Dense(1, activation=\"sigmoid\")(dropout)\n",
    "\n",
    "model = keras.Model(inputs=seq_input, outputs=output)"
   ]
  },
  {
   "cell_type": "code",
   "execution_count": 36,
   "id": "25ec0828",
   "metadata": {
    "scrolled": true
   },
   "outputs": [
    {
     "name": "stdout",
     "output_type": "stream",
     "text": [
      "Model: \"model\"\n",
      "__________________________________________________________________________________________________\n",
      " Layer (type)                   Output Shape         Param #     Connected to                     \n",
      "==================================================================================================\n",
      " input_1 (InputLayer)           [(None, 60)]         0           []                               \n",
      "                                                                                                  \n",
      " embedding (Embedding)          (None, 60, 128)      768000      ['input_1[0][0]']                \n",
      "                                                                                                  \n",
      " bi_lstm_0 (Bidirectional)      (None, 60, 256)      263168      ['embedding[0][0]']              \n",
      "                                                                                                  \n",
      " bi_lstm_1 (Bidirectional)      [(None, 60, 256),    394240      ['bi_lstm_0[0][0]']              \n",
      "                                 (None, 128),                                                     \n",
      "                                 (None, 128),                                                     \n",
      "                                 (None, 128),                                                     \n",
      "                                 (None, 128)]                                                     \n",
      "                                                                                                  \n",
      " concatenate (Concatenate)      (None, 256)          0           ['bi_lstm_1[0][1]',              \n",
      "                                                                  'bi_lstm_1[0][3]']              \n",
      "                                                                                                  \n",
      " attention (attention)          ((None, 256),        5151        ['bi_lstm_1[0][0]',              \n",
      "                                 (None, 60, 1))                   'concatenate[0][0]']            \n",
      "                                                                                                  \n",
      " dense_5 (Dense)                (None, 16)           4112        ['attention[0][0]']              \n",
      "                                                                                                  \n",
      " dropout_2 (Dropout)            (None, 16)           0           ['dense_5[0][0]']                \n",
      "                                                                                                  \n",
      " dense_6 (Dense)                (None, 1)            17          ['dropout_2[0][0]']              \n",
      "                                                                                                  \n",
      "==================================================================================================\n",
      "Total params: 1,434,688\n",
      "Trainable params: 1,434,688\n",
      "Non-trainable params: 0\n",
      "__________________________________________________________________________________________________\n"
     ]
    }
   ],
   "source": [
    "model.summary()"
   ]
  },
  {
   "cell_type": "markdown",
   "id": "a994c70d",
   "metadata": {},
   "source": [
    "Finally, we are compiling and training the model"
   ]
  },
  {
   "cell_type": "code",
   "execution_count": 29,
   "id": "e3cd225e",
   "metadata": {},
   "outputs": [],
   "source": [
    "model.compile(loss='binary_crossentropy', optimizer='adam', metrics=keras.metrics.BinaryAccuracy(name='Accuracy'))"
   ]
  },
  {
   "cell_type": "code",
   "execution_count": 30,
   "id": "617ab7a2",
   "metadata": {
    "scrolled": true
   },
   "outputs": [
    {
     "name": "stdout",
     "output_type": "stream",
     "text": [
      "Epoch 1/5\n",
      "1584/1584 [==============================] - 1278s 797ms/step - loss: 0.2860 - Accuracy: 0.8808 - val_loss: 0.2593 - val_Accuracy: 0.8933\n",
      "Epoch 2/5\n",
      "1584/1584 [==============================] - 1055s 666ms/step - loss: 0.2389 - Accuracy: 0.9022 - val_loss: 0.2465 - val_Accuracy: 0.8990\n",
      "Epoch 3/5\n",
      "1584/1584 [==============================] - 1120s 707ms/step - loss: 0.2138 - Accuracy: 0.9124 - val_loss: 0.2543 - val_Accuracy: 0.8974\n",
      "Epoch 4/5\n",
      "1584/1584 [==============================] - 1278s 807ms/step - loss: 0.1924 - Accuracy: 0.9228 - val_loss: 0.2720 - val_Accuracy: 0.8943\n",
      "Epoch 5/5\n",
      "1584/1584 [==============================] - 998s 630ms/step - loss: 0.1707 - Accuracy: 0.9317 - val_loss: 0.2794 - val_Accuracy: 0.8940\n"
     ]
    }
   ],
   "source": [
    "batch_size = 100\n",
    "epoch = 5\n",
    "\n",
    "train_hist = model.fit(X_train, y_train, batch_size=batch_size, epochs=epoch, validation_split=0.2)"
   ]
  },
  {
   "cell_type": "code",
   "execution_count": 31,
   "id": "de42aa43",
   "metadata": {},
   "outputs": [],
   "source": [
    "import matplotlib.pyplot as plt"
   ]
  },
  {
   "cell_type": "code",
   "execution_count": 32,
   "id": "8480abe5",
   "metadata": {},
   "outputs": [
    {
     "data": {
      "image/png": "[encoded data removed]",
      "text/plain": [
       "<Figure size 640x480 with 1 Axes>"
      ]
     },
     "metadata": {},
     "output_type": "display_data"
    },
    {
     "data": {
      "image/png": "[encoded data removed]",
      "text/plain": [
       "<Figure size 640x480 with 1 Axes>"
      ]
     },
     "metadata": {},
     "output_type": "display_data"
    }
   ],
   "source": [
    "plt.plot(train_hist.history['Accuracy'])\n",
    "plt.plot(train_hist.history['val_Accuracy'])\n",
    "plt.title('Model Accuracy')\n",
    "plt.ylabel('accuracy')\n",
    "plt.xlabel('epoch')\n",
    "plt.legend(['Train', 'Validation'], loc='upper left')\n",
    "plt.show()\n",
    "\n",
    "\n",
    "plt.plot(train_hist.history['loss'])\n",
    "plt.plot(train_hist.history['val_loss'])\n",
    "plt.title('Model Loss')\n",
    "plt.ylabel('loss')\n",
    "plt.xlabel('epoch')\n",
    "plt.legend(['Train', 'Validation'], loc='upper left')\n",
    "plt.show()"
   ]
  },
  {
   "cell_type": "markdown",
   "id": "b1e4621b",
   "metadata": {},
   "source": [
    "As we can see, the model has underfiiting issues. So the model might not perform well on unseen data."
   ]
  },
  {
   "cell_type": "markdown",
   "id": "c9283d12",
   "metadata": {},
   "source": [
    "**Testing on test data**"
   ]
  },
  {
   "cell_type": "code",
   "execution_count": 39,
   "id": "445d6be0",
   "metadata": {},
   "outputs": [],
   "source": [
    "test['processed Reviews'] = test['text'].apply(lambda x: text_cleaner(x))\n",
    "tokenized_test_seq = tokenizer.texts_to_sequences(test['processed Reviews'])\n",
    "X_test = pad_sequences(tokenized_test_seq, maxlen=60)\n",
    "y_test = test['sentiment']"
   ]
  },
  {
   "cell_type": "markdown",
   "id": "9b0ab5fe",
   "metadata": {},
   "source": [
    "Now, we can make predictions on test data"
   ]
  },
  {
   "cell_type": "code",
   "execution_count": 40,
   "id": "1a4517bf",
   "metadata": {},
   "outputs": [
    {
     "name": "stdout",
     "output_type": "stream",
     "text": [
      "63/63 [==============================] - 28s 73ms/step\n"
     ]
    }
   ],
   "source": [
    "predictions = model.predict(X_test)"
   ]
  },
  {
   "cell_type": "code",
   "execution_count": 41,
   "id": "35388e89",
   "metadata": {},
   "outputs": [],
   "source": [
    "binary_predictions = (predictions > 0.5).astype(int)"
   ]
  },
  {
   "cell_type": "code",
   "execution_count": 42,
   "id": "8a428ac8",
   "metadata": {},
   "outputs": [
    {
     "data": {
      "text/plain": [
       "array([[0],\n",
       "       [1],\n",
       "       [1],\n",
       "       ...,\n",
       "       [1],\n",
       "       [1],\n",
       "       [1]])"
      ]
     },
     "execution_count": 42,
     "metadata": {},
     "output_type": "execute_result"
    }
   ],
   "source": [
    "binary_predictions"
   ]
  },
  {
   "cell_type": "markdown",
   "id": "c18aaa7b",
   "metadata": {},
   "source": [
    "**Evaluating the model**"
   ]
  },
  {
   "cell_type": "code",
   "execution_count": 37,
   "id": "a60b1f1f",
   "metadata": {},
   "outputs": [],
   "source": [
    "from sklearn.metrics import accuracy_score, classification_report, confusion_matrix"
   ]
  },
  {
   "cell_type": "code",
   "execution_count": 43,
   "id": "1e7299fe",
   "metadata": {},
   "outputs": [
    {
     "name": "stderr",
     "output_type": "stream",
     "text": [
      "C:\\Users\\Lenovo\\anaconda3\\lib\\site-packages\\sklearn\\utils\\validation.py:605: FutureWarning: is_sparse is deprecated and will be removed in a future version. Check `isinstance(dtype, pd.SparseDtype)` instead.\n",
      "  if is_sparse(pd_dtype):\n",
      "C:\\Users\\Lenovo\\anaconda3\\lib\\site-packages\\sklearn\\utils\\validation.py:614: FutureWarning: is_sparse is deprecated and will be removed in a future version. Check `isinstance(dtype, pd.SparseDtype)` instead.\n",
      "  if is_sparse(pd_dtype) or not is_extension_array_dtype(pd_dtype):\n"
     ]
    },
    {
     "name": "stdout",
     "output_type": "stream",
     "text": [
      "Classification report:                precision    recall  f1-score   support\n",
      "\n",
      "           0       0.85      0.80      0.83       640\n",
      "           1       0.91      0.93      0.92      1360\n",
      "\n",
      "    accuracy                           0.89      2000\n",
      "   macro avg       0.88      0.87      0.87      2000\n",
      "weighted avg       0.89      0.89      0.89      2000\n",
      "\n"
     ]
    }
   ],
   "source": [
    "print(\"Classification report: \", classification_report(y_test, binary_predictions))"
   ]
  },
  {
   "cell_type": "code",
   "execution_count": 44,
   "id": "74e36b08",
   "metadata": {},
   "outputs": [
    {
     "name": "stderr",
     "output_type": "stream",
     "text": [
      "C:\\Users\\Lenovo\\anaconda3\\lib\\site-packages\\sklearn\\utils\\validation.py:605: FutureWarning: is_sparse is deprecated and will be removed in a future version. Check `isinstance(dtype, pd.SparseDtype)` instead.\n",
      "  if is_sparse(pd_dtype):\n",
      "C:\\Users\\Lenovo\\anaconda3\\lib\\site-packages\\sklearn\\utils\\validation.py:614: FutureWarning: is_sparse is deprecated and will be removed in a future version. Check `isinstance(dtype, pd.SparseDtype)` instead.\n",
      "  if is_sparse(pd_dtype) or not is_extension_array_dtype(pd_dtype):\n"
     ]
    },
    {
     "name": "stdout",
     "output_type": "stream",
     "text": [
      "Confusion matrix:  [[ 512  128]\n",
      " [  89 1271]]\n"
     ]
    }
   ],
   "source": [
    "print(\"Confusion matrix: \", confusion_matrix(y_test, binary_predictions))"
   ]
  },
  {
   "cell_type": "code",
   "execution_count": null,
   "id": "a69a77df",
   "metadata": {},
   "outputs": [],
   "source": []
  }
 ],
 "metadata": {
  "kernelspec": {
   "display_name": "Python 3 (ipykernel)",
   "language": "python",
   "name": "python3"
  },
  "language_info": {
   "codemirror_mode": {
    "name": "ipython",
    "version": 3
   },
   "file_extension": ".py",
   "mimetype": "text/x-python",
   "name": "python",
   "nbconvert_exporter": "python",
   "pygments_lexer": "ipython3",
   "version": "3.10.9"
  }
 },
 "nbformat": 4,
 "nbformat_minor": 5
}
